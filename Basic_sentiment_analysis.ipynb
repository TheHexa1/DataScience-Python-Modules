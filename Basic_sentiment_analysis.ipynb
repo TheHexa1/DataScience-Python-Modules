{
  "nbformat": 4,
  "nbformat_minor": 0,
  "metadata": {
    "colab": {
      "name": "Basic_sentiment_analysis.ipynb",
      "version": "0.3.2",
      "provenance": [],
      "collapsed_sections": [],
      "include_colab_link": true
    },
    "kernelspec": {
      "name": "python3",
      "display_name": "Python 3"
    }
  },
  "cells": [
    {
      "cell_type": "markdown",
      "metadata": {
        "id": "view-in-github",
        "colab_type": "text"
      },
      "source": [
        "[View in Colaboratory](https://colab.research.google.com/github/TheHexa1/DataScience-Python-Modules/blob/master/Basic_sentiment_analysis.ipynb)"
      ]
    },
    {
      "metadata": {
        "id": "ydhLjzJyy_yO",
        "colab_type": "code",
        "colab": {}
      },
      "cell_type": "code",
      "source": [
        "!pip install tweepy\n",
        "!pip install textblob"
      ],
      "execution_count": 0,
      "outputs": []
    },
    {
      "metadata": {
        "id": "YAY3HEGd1FhF",
        "colab_type": "code",
        "colab": {}
      },
      "cell_type": "code",
      "source": [
        "import tweepy\n",
        "import csv\n",
        "from textblob import TextBlob\n",
        "\n",
        "#twitter keys\n",
        "access_token = 'TWITTER_ACCESS_TOKEN'\n",
        "access_token_secret = 'TWITTER_ACCESS_TOKEN_SECRET'\n",
        "\n",
        "consumer_key = 'TWIITER_CONSUMER_KEY'\n",
        "consumer_secret = 'TWITTER_CONSUMER_SECRET'\n",
        "\n",
        "#tweepy twitter api authentication \n",
        "auth = tweepy.OAuthHandler(consumer_key, consumer_secret)\n",
        "auth.set_access_token(access_token, access_token_secret)\n",
        "api = tweepy.API(auth)\n",
        "\n",
        "#search and store tweets\n",
        "public_tweets = api.search(\"homosexuality\")\n",
        "\n",
        "t_list = []\n",
        "\n",
        "#iterate through all tweets\n",
        "for tweet in public_tweets:\n",
        "  \n",
        "  #basic sentiment analysis via textblob\n",
        "  analysis = TextBlob(tweet.text)  \n",
        "  sentiment = analysis.sentiment\n",
        "  \n",
        "  if(sentiment.polarity >= 0):\n",
        "    t_list.append(tweet.text + \"  --  Positive\")\n",
        "  else: \n",
        "    t_list.append(tweet.text + \"  --  Negative\")\n",
        "\n",
        "#storing tweets in csv with polarity label    \n",
        "with open('tweets_with_sentiment_label.csv', 'w') as myfile:\n",
        "     wr = csv.writer(myfile, quoting=csv.QUOTE_ALL)\n",
        "     wr.writerow(t_list)\n"
      ],
      "execution_count": 0,
      "outputs": []
    },
    {
      "metadata": {
        "id": "d7QyBmCo8Zjk",
        "colab_type": "code",
        "colab": {}
      },
      "cell_type": "code",
      "source": [
        "#to download (csv)file from google colaboratory \n",
        "from google.colab import files\n",
        "files.download('tweets_with_sentiment_label.csv')\n"
      ],
      "execution_count": 0,
      "outputs": []
    }
  ]
}