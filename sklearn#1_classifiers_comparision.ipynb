{
  "nbformat": 4,
  "nbformat_minor": 0,
  "metadata": {
    "colab": {
      "name": "sklearn#1_classifiers_comparision.ipynb",
      "version": "0.3.2",
      "provenance": [],
      "include_colab_link": true
    },
    "kernelspec": {
      "name": "python3",
      "display_name": "Python 3"
    }
  },
  "cells": [
    {
      "cell_type": "markdown",
      "metadata": {
        "id": "view-in-github",
        "colab_type": "text"
      },
      "source": [
        "[View in Colaboratory](https://colab.research.google.com/github/TheHexa1/DataScience-Python-Modules/blob/master/sklearn%231_classifiers_comparision.ipynb)"
      ]
    },
    {
      "metadata": {
        "id": "z0q9XMwZTtob",
        "colab_type": "code",
        "colab": {
          "base_uri": "https://localhost:8080/",
          "height": 153
        },
        "outputId": "64db895d-62af-4684-8a87-582ab49729b7"
      },
      "cell_type": "code",
      "source": [
        "from sklearn.tree import DecisionTreeClassifier\n",
        "from sklearn.ensemble import RandomForestClassifier\n",
        "from sklearn.naive_bayes import GaussianNB\n",
        "from sklearn.svm import SVC\n",
        "from sklearn import model_selection\n",
        "\n",
        "# [height, weight, shoe_size]\n",
        "X = [[181, 80, 44], [177, 70, 43], [160, 60, 38], [154, 54, 37], [166, 65, 40],\n",
        "     [190, 90, 47], [175, 64, 39],\n",
        "     [177, 70, 40], [159, 55, 37], [171, 75, 42], [181, 85, 43]]\n",
        "\n",
        "Y = ['male', 'male', 'female', 'female', 'male', 'male', 'female', 'female',\n",
        "     'female', 'male', 'male']\n",
        "\n",
        "#initialize models\n",
        "tree_clf = DecisionTreeClassifier()\n",
        "forest_clf = RandomForestClassifier()\n",
        "bayes_clf = GaussianNB()\n",
        "svm_clf = SVC()\n",
        "\n",
        "#train models on given data\n",
        "tree_clf = tree_clf.fit(X,Y)\n",
        "forest_clf = forest_clf.fit(X,Y)\n",
        "bayes_clf = bayes_clf.fit(X,Y)\n",
        "svm_clf = svm_clf.fit(X,Y)\n",
        "\n",
        "#print prediction \n",
        "print (tree_clf.predict([[150,50,49]]))\n",
        "print (forest_clf.predict([[150,50,49]]))\n",
        "print (bayes_clf.predict([[150,50,49]]))\n",
        "print (svm_clf.predict([[150,50,49]]))\n",
        "\n",
        "# prepare configuration for cross validation test harness\n",
        "seed = 7\n",
        "# prepare models\n",
        "models = []\n",
        "models.append(('Tree', DecisionTreeClassifier()))\n",
        "models.append(('Forest', RandomForestClassifier()))\n",
        "models.append(('NB', GaussianNB()))\n",
        "models.append(('SVM', SVC()))\n",
        "# evaluate each model in turn\n",
        "results = []\n",
        "names = []\n",
        "scoring = 'accuracy'\n",
        "for name, model in models:\n",
        "\tkfold = model_selection.KFold(n_splits=10, random_state=seed)\n",
        "\tcv_results = model_selection.cross_val_score(model, X, Y, cv=5, scoring=scoring)\n",
        "\tresults.append(cv_results)\n",
        "\tnames.append(name)\n",
        "\tmsg = \"%s: %f (%f)\" % (name, cv_results.mean(), cv_results.std())\n",
        "\tprint(msg)\n",
        "  "
      ],
      "execution_count": 35,
      "outputs": [
        {
          "output_type": "stream",
          "text": [
            "['male']\n",
            "['female']\n",
            "['male']\n",
            "['male']\n",
            "Tree: 0.633333 (0.194365)\n",
            "Forest: 0.733333 (0.226078)\n",
            "NB: 0.800000 (0.244949)\n",
            "SVM: 0.533333 (0.066667)\n"
          ],
          "name": "stdout"
        }
      ]
    }
  ]
}